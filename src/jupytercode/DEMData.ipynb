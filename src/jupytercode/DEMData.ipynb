{
 "cells": [
  {
   "cell_type": "code",
   "execution_count": 1,
   "metadata": {},
   "outputs": [],
   "source": [
    "import ee\n",
    "ee.Initialize()"
   ]
  },
  {
   "cell_type": "code",
   "execution_count": 2,
   "metadata": {},
   "outputs": [],
   "source": [
    "dataset = ee.Image('USGS/SRTMGL1_003')\n",
    "elevation = dataset.select('elevation')\n",
    "slope = ee.Terrain.slope(elevation)"
   ]
  },
  {
   "cell_type": "code",
   "execution_count": 3,
   "metadata": {},
   "outputs": [],
   "source": [
    "# Extract pixel value in terms of slope\n",
    "def extractPixelSlopeValue(x,slopeDB):\n",
    "    p = ee.Geometry.Point(x)\n",
    "    data =  slopeDB.select(\"slope\").reduceRegion(ee.Reducer.first(),p,10).get(\"slope\") \n",
    "    return ee.Number(data)"
   ]
  },
  {
   "cell_type": "code",
   "execution_count": 4,
   "metadata": {},
   "outputs": [],
   "source": [
    "# Manipulate pixel value based on parametric formulae (Pressure in Pascal is calculated here)\n",
    "def getPressureValue(pixelData):\n",
    "    return ee.Number(101325).divide(pixelData.divide(ee.Number(8400)).exp())"
   ]
  },
  {
   "cell_type": "code",
   "execution_count": 5,
   "metadata": {},
   "outputs": [],
   "source": [
    "import os\n",
    "os.system(\"earthengine upload table --asset_id=users/nihalh55/MangaloreShapes Mangalore.zip\")\n",
    "table = ee.FeatureCollection(\"users/nihalh55/MangaloreShapes\")"
   ]
  },
  {
   "cell_type": "code",
   "execution_count": 6,
   "metadata": {},
   "outputs": [],
   "source": [
    "# Creating bounds\n",
    "bounds = ee.Geometry.Polygon([[[74.856,12.9141],[77.5946,12.9716],[76.9654,11.0073],[75.7804,11.2588]]]);"
   ]
  },
  {
   "cell_type": "code",
   "execution_count": 22,
   "metadata": {},
   "outputs": [],
   "source": [
    "polygon = slope.clip(bounds)\n",
    "\n",
    "task_config = {\n",
    "    'scale': 500,\n",
    "    \"description\":'DEM-Data-Mangalore',\n",
    "    'maxPixels': 1e12,\n",
    "    'fileFormat': 'GeoTIFF',\n",
    "    'folder': 'AM477',\n",
    "    'region':table,\n",
    "    'dimensions':720\n",
    "    }\n",
    "\n",
    "task = ee.batch.Export.image.toDrive(slope, **task_config)\n",
    "task.start()\n",
    "\n",
    "# proj = polygon.select([0]).projection()\n",
    "# latlon = ee.Image.pixelLonLat().reproject(proj)\n",
    "\n",
    "# coords =  latlon.select(['longitude', 'latitude']).reduceRegion({ \"reducer\": ee.Reducer.toList(), \"geometry\": bounds, \"bestEffort\": True, \"scale\": 369})\n",
    "# lat = ee.List(coords.get('latitude'))\n",
    "# lon = ee.List(coords.get('longitude'))\n",
    "# point_list = lon.zip(lat)\n",
    "\n",
    "# newImage = ee.Image.constant(ee.Number(101325)).divide(polygon.divide(ee.Image.constant(ee.Number(8400))).exp())\n",
    "\n",
    "# Map.setCenter(75, 12.95, 8);\n",
    "# Map.addLayer(polygon, {min: 0, max: 60}, 'bounded-area');\n",
    "# Map.addLayer(newImage, {min: 100000, max: 101500}, 'pressure');\n",
    "\n",
    "# ee.batch.Export.image.toDrive({\"image\":slope, \n",
    "#                       \"description\":'DEM-Data-Mangalore',\n",
    "#                       \"folder\": 'AM477',\n",
    "#                       \"dimensions\":720, \n",
    "#                       \"region\":table,\n",
    "#                       \"scale\":500,\n",
    "#                       \"maxPixels\":1e12,\n",
    "#                       \"fileFormat\": 'GeoTIFF'});\n"
   ]
  },
  {
   "cell_type": "code",
   "execution_count": 13,
   "metadata": {},
   "outputs": [],
   "source": []
  },
  {
   "cell_type": "code",
   "execution_count": null,
   "metadata": {},
   "outputs": [],
   "source": []
  }
 ],
 "metadata": {
  "kernelspec": {
   "display_name": "Python 3",
   "language": "python",
   "name": "python3"
  },
  "language_info": {
   "codemirror_mode": {
    "name": "ipython",
    "version": 3
   },
   "file_extension": ".py",
   "mimetype": "text/x-python",
   "name": "python",
   "nbconvert_exporter": "python",
   "pygments_lexer": "ipython3",
   "version": "3.7.1"
  }
 },
 "nbformat": 4,
 "nbformat_minor": 2
}
